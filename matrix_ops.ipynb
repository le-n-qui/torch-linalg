{
 "cells": [
  {
   "cell_type": "markdown",
   "id": "57eac390",
   "metadata": {},
   "source": [
    "# 2.1: Matrix Operations"
   ]
  },
  {
   "cell_type": "markdown",
   "id": "4cafc0d4",
   "metadata": {},
   "source": [
    "## Notes"
   ]
  },
  {
   "cell_type": "markdown",
   "id": "18548ba4",
   "metadata": {},
   "source": [
    "## Exercises"
   ]
  },
  {
   "cell_type": "code",
   "execution_count": 2,
   "id": "e97ca616",
   "metadata": {},
   "outputs": [],
   "source": [
    "# Setup\n",
    "import torch "
   ]
  },
  {
   "cell_type": "markdown",
   "id": "035f2fd6",
   "metadata": {},
   "source": [
    "**Problem: Produce the following matrices (without keying in each entry of the matrix)**"
   ]
  },
  {
   "cell_type": "markdown",
   "id": "588f2326",
   "metadata": {},
   "source": [
    "a. A 4 x 5 matrix of zeros"
   ]
  },
  {
   "cell_type": "code",
   "execution_count": 3,
   "id": "6da0482e",
   "metadata": {},
   "outputs": [
    {
     "name": "stdout",
     "output_type": "stream",
     "text": [
      "Zeros Tensor: \n",
      " tensor([[0., 0., 0., 0., 0.],\n",
      "        [0., 0., 0., 0., 0.],\n",
      "        [0., 0., 0., 0., 0.],\n",
      "        [0., 0., 0., 0., 0.]])\n"
     ]
    }
   ],
   "source": [
    "# matrix size \n",
    "shape = (4,5,)\n",
    "# matrix of zeros using the shape\n",
    "zeros_tensor = torch.zeros(shape)\n",
    "# display above matrix\n",
    "print(\"Zeros Tensor: \\n {}\".format(zeros_tensor))"
   ]
  },
  {
   "cell_type": "markdown",
   "id": "08b59c8b",
   "metadata": {},
   "source": [
    "b. A 5 x 3 matrix of ones"
   ]
  },
  {
   "cell_type": "code",
   "execution_count": 4,
   "id": "d609fd6d",
   "metadata": {},
   "outputs": [
    {
     "name": "stdout",
     "output_type": "stream",
     "text": [
      "Ones Tensor: \n",
      " tensor([[1., 1., 1.],\n",
      "        [1., 1., 1.],\n",
      "        [1., 1., 1.],\n",
      "        [1., 1., 1.],\n",
      "        [1., 1., 1.]])\n"
     ]
    }
   ],
   "source": [
    "# matrix size\n",
    "shape = (5,3,)\n",
    "# matrix of ones using the shape\n",
    "ones_tensor = torch.ones(shape)\n",
    "# display matrix\n",
    "print(\"Ones Tensor: \\n {}\".format(ones_tensor))"
   ]
  },
  {
   "cell_type": "markdown",
   "id": "f3208e43",
   "metadata": {},
   "source": [
    "c. The 5 x 5 identity matrix"
   ]
  },
  {
   "cell_type": "markdown",
   "id": "f8de5bc5",
   "metadata": {},
   "source": [
    "Method: Filling pivot positions of the matrix with value 1"
   ]
  },
  {
   "cell_type": "code",
   "execution_count": 21,
   "id": "69656370",
   "metadata": {},
   "outputs": [
    {
     "name": "stdout",
     "output_type": "stream",
     "text": [
      "Identity Tensor: \n",
      " tensor([[1., 0., 0., 0., 0.],\n",
      "        [0., 1., 0., 0., 0.],\n",
      "        [0., 0., 1., 0., 0.],\n",
      "        [0., 0., 0., 1., 0.],\n",
      "        [0., 0., 0., 0., 1.]])\n"
     ]
    }
   ],
   "source": [
    "# matrix size\n",
    "shape = (5,5,)\n",
    "# pivot value\n",
    "pivot = 1\n",
    "# make a zero matrix\n",
    "zeros_tensor = torch.zeros(shape)\n",
    "# pivot positions in identity matrix must be ones\n",
    "identity_tensor = zeros_tensor.fill_diagonal_(pivot)\n",
    "# display identity matrix\n",
    "print(\"Identity Tensor: \\n {}\".format(identity_tensor))"
   ]
  },
  {
   "cell_type": "markdown",
   "id": "11c525ac",
   "metadata": {},
   "source": [
    "Method: Provide a vector of ones to torch.diag or torch.diagflat"
   ]
  },
  {
   "cell_type": "code",
   "execution_count": 22,
   "id": "1667726a",
   "metadata": {},
   "outputs": [
    {
     "name": "stdout",
     "output_type": "stream",
     "text": [
      "Identity Tensor 1: \n",
      " tensor([[1., 0., 0., 0., 0.],\n",
      "        [0., 1., 0., 0., 0.],\n",
      "        [0., 0., 1., 0., 0.],\n",
      "        [0., 0., 0., 1., 0.],\n",
      "        [0., 0., 0., 0., 1.]])\n",
      "Identity Tensor 2: \n",
      " tensor([[1., 0., 0., 0., 0.],\n",
      "        [0., 1., 0., 0., 0.],\n",
      "        [0., 0., 1., 0., 0.],\n",
      "        [0., 0., 0., 1., 0.],\n",
      "        [0., 0., 0., 0., 1.]])\n"
     ]
    }
   ],
   "source": [
    "# size\n",
    "vector_size = 5\n",
    "# make a vector\n",
    "ones_vector = torch.ones(vector_size)\n",
    "# create the identity matrix\n",
    "id_tensor_1 = torch.diag(ones_vector)\n",
    "# display identity matrix\n",
    "print(\"Identity Tensor 1: \\n {}\".format(id_tensor_1))\n",
    "# create 2nd identity matrix\n",
    "id_tensor_2 = torch.diagflat(ones_vector)\n",
    "# display 2nd matrix\n",
    "print(\"Identity Tensor 2: \\n {}\".format(id_tensor_2))"
   ]
  },
  {
   "cell_type": "markdown",
   "id": "fa245e6a",
   "metadata": {},
   "source": [
    "d. A 4 x 4 diagonal matrix, with diagonal entries 3, 4, 2, 5\n",
    "\n",
    "   Between two methods discovered above, it is better to use 2nd method for different entries on our diagonal."
   ]
  },
  {
   "cell_type": "code",
   "execution_count": 27,
   "id": "781fffe3",
   "metadata": {},
   "outputs": [
    {
     "name": "stdout",
     "output_type": "stream",
     "text": [
      "Diagonal Matrix: \n",
      " tensor([[3, 0, 0, 0],\n",
      "        [0, 4, 0, 0],\n",
      "        [0, 0, 2, 0],\n",
      "        [0, 0, 0, 5]])\n"
     ]
    }
   ],
   "source": [
    "# matrix size\n",
    "shape = (4,4,)\n",
    "# vector data\n",
    "data = [3, 4, 2, 5]\n",
    "# make a vector\n",
    "vector = torch.tensor(data)\n",
    "# create diagonal matrix with desired entries\n",
    "diag_matrix = torch.diag(vector)\n",
    "# display matrix\n",
    "print(\"Diagonal Matrix: \\n {}\".format(diag_matrix))"
   ]
  },
  {
   "cell_type": "markdown",
   "id": "e033e72a",
   "metadata": {},
   "source": [
    "**Observation**: A useful way to test new ideas in matrix algebra, or to make conjectures,  is to make calculations with matrices selected at random."
   ]
  },
  {
   "cell_type": "markdown",
   "id": "fcfa0441",
   "metadata": {},
   "source": [
    "**Problem: Create a 5 x 6 matrix with random entries**"
   ]
  },
  {
   "cell_type": "code",
   "execution_count": 30,
   "id": "8399d52f",
   "metadata": {},
   "outputs": [
    {
     "name": "stdout",
     "output_type": "stream",
     "text": [
      "Random Tensor: \n",
      " tensor([[0.3721, 0.3003, 0.2537, 0.9327, 0.8904, 0.2613],\n",
      "        [0.2015, 0.5203, 0.8707, 0.9034, 0.3224, 0.0402],\n",
      "        [0.1862, 0.7260, 0.7008, 0.9567, 0.9470, 0.4316],\n",
      "        [0.1110, 0.8372, 0.5519, 0.6201, 0.4774, 0.9666],\n",
      "        [0.8372, 0.2464, 0.4884, 0.0901, 0.4593, 0.6614]])\n",
      "Tensor Size: torch.Size([5, 6])\n",
      "Tensor Data Type: torch.float32\n",
      "Device Tensor Is Stored On: cpu\n"
     ]
    }
   ],
   "source": [
    "# tensor shape\n",
    "shape = (5,6,)\n",
    "# create tensor with random entries\n",
    "rand_tensor = torch.rand(shape)\n",
    "# display\n",
    "print(\"Random Tensor: \\n {}\".format(rand_tensor))\n",
    "print(\"Tensor Size: {}\".format(rand_tensor.shape))\n",
    "print(\"Tensor Data Type: {}\".format(rand_tensor.dtype))\n",
    "print(\"Device Tensor Is Stored On: {}\".format(rand_tensor.device))"
   ]
  },
  {
   "cell_type": "markdown",
   "id": "b7da04b1",
   "metadata": {},
   "source": [
    "Create a 4 x 4 matrix with random integers entries between -9 and 9"
   ]
  },
  {
   "cell_type": "code",
   "execution_count": 35,
   "id": "6a27c336",
   "metadata": {},
   "outputs": [
    {
     "name": "stdout",
     "output_type": "stream",
     "text": [
      "Random Integer Tensor: \n",
      " tensor([[ 8, -9, -3, -1],\n",
      "        [ 7, -8,  5, -7],\n",
      "        [ 7,  4, -3, -7],\n",
      "        [-4, -3,  0, -1]])\n",
      "Largest value: 8\n"
     ]
    }
   ],
   "source": [
    "# tensor shape\n",
    "shape = (4,4,)\n",
    "# create tensor with random integers\n",
    "int_tensor = torch.randint(-9, 9, shape)\n",
    "# display\n",
    "print(f\"Random Integer Tensor: \\n {int_tensor}\")\n",
    "# Find the largest value in tensor\n",
    "print(f\"Largest value: {torch.max(int_tensor)}\")"
   ]
  },
  {
   "cell_type": "markdown",
   "id": "4cf1a1a3",
   "metadata": {},
   "source": [
    "**Problem: Construct a random 4 x 4 matrices A & B to test whether AB = BA**\n",
    "\n",
    "Test 4 pairs of random 4 x 4 matrices"
   ]
  },
  {
   "cell_type": "code",
   "execution_count": 51,
   "id": "0f1b83c0",
   "metadata": {},
   "outputs": [
    {
     "name": "stdout",
     "output_type": "stream",
     "text": [
      "AB = \n",
      " tensor([[ 96,  90,  70, 119],\n",
      "        [105, 108,  76, 128],\n",
      "        [ 46,  55,  58,  65],\n",
      "        [ 40,  43,  48,  56]]) \n",
      "BA = \n",
      " tensor([[ 49,  71,  62,  78],\n",
      "        [ 51,  88,  65,  87],\n",
      "        [ 56,  84,  91, 105],\n",
      "        [ 26, 110,  62,  90]]) \n",
      "Supposed Zeros Matrix = \n",
      " tensor([[ 47,  19,   8,  41],\n",
      "        [ 54,  20,  11,  41],\n",
      "        [-10, -29, -33, -40],\n",
      "        [ 14, -67, -14, -34]])\n",
      "AB = \n",
      " tensor([[ 66,  81,  54,  39],\n",
      "        [ 71,  88,  85,  77],\n",
      "        [ 81, 101,  95,  78],\n",
      "        [ 77, 131, 123,  88]]) \n",
      "BA = \n",
      " tensor([[ 57, 134,  53, 134],\n",
      "        [ 21,  70,  41,  54],\n",
      "        [ 42, 108,  60,  97],\n",
      "        [ 90, 160,  88, 150]]) \n",
      "Supposed Zeros Matrix = \n",
      " tensor([[  9, -53,   1, -95],\n",
      "        [ 50,  18,  44,  23],\n",
      "        [ 39,  -7,  35, -19],\n",
      "        [-13, -29,  35, -62]])\n",
      "AB = \n",
      " tensor([[86, 81, 39, 39],\n",
      "        [48, 75, 65, 23],\n",
      "        [46, 94, 94, 18],\n",
      "        [24, 35, 25,  9]]) \n",
      "BA = \n",
      " tensor([[ 87,  32,  58,  45],\n",
      "        [ 56,  49,  57,  17],\n",
      "        [ 55,  56,  84,  15],\n",
      "        [115,  71,  61,  44]]) \n",
      "Supposed Zeros Matrix = \n",
      " tensor([[ -1,  49, -19,  -6],\n",
      "        [ -8,  26,   8,   6],\n",
      "        [ -9,  38,  10,   3],\n",
      "        [-91, -36, -36, -35]])\n",
      "AB = \n",
      " tensor([[112,  89,  91,  34],\n",
      "        [ 54,  50,  81,   9],\n",
      "        [ 30,  43,  66,  26],\n",
      "        [ 79,  82,  85,  53]]) \n",
      "BA = \n",
      " tensor([[76, 79, 60, 43],\n",
      "        [56, 69, 51, 70],\n",
      "        [57, 42, 59, 61],\n",
      "        [41, 47, 45, 77]]) \n",
      "Supposed Zeros Matrix = \n",
      " tensor([[ 36,  10,  31,  -9],\n",
      "        [ -2, -19,  30, -61],\n",
      "        [-27,   1,   7, -35],\n",
      "        [ 38,  35,  40, -24]])\n"
     ]
    }
   ],
   "source": [
    "# matrix size\n",
    "shape = (4,4,)\n",
    "# number of tensors\n",
    "num_tensors = 4\n",
    "\n",
    "# 2 batches of tensors\n",
    "batch_1 = []\n",
    "batch_2 = []\n",
    "# create  matrices\n",
    "for _ in range(num_tensors):\n",
    "    rand_tensor_1 = torch.randint(9, shape)\n",
    "    batch_1.append(rand_tensor_1)\n",
    "    rand_tensor_2 = torch.randint(9, shape)\n",
    "    batch_2.append(rand_tensor_2)\n",
    "    \n",
    "for A, B in zip(batch_1, batch_2):\n",
    "    # matrix multiplication: calculate AB \n",
    "    output = torch.matmul(A, B)\n",
    "    # calculate BA\n",
    "    output_2 = torch.matmul(B, A)\n",
    "    # verify the hypothesis AB = BA\n",
    "    desired_zeros_mtrx = torch.sub(output, output_2) \n",
    "    # display\n",
    "    print(f\"AB = \\n {output} \\nBA = \\n {output_2} \\nSupposed Zeros Matrix = \\n {desired_zeros_mtrx}\")\n",
    "    "
   ]
  },
  {
   "cell_type": "markdown",
   "id": "d18e1ca1",
   "metadata": {},
   "source": [
    "Our hypothesis is that AB = BA; however, based on calculations for 4 pairs of random matrices, we clearly see that this is not the case for every pair of matrices because the result matrix is not a zeros matrix in all four examples. Thus, AB is not equal to BA."
   ]
  },
  {
   "cell_type": "markdown",
   "id": "8759d649",
   "metadata": {},
   "source": [
    "**Problem: Given matrix $S$ below, compute $S^{k}$ for $k = 2,\\dots,6$**"
   ]
  },
  {
   "cell_type": "code",
   "execution_count": 53,
   "id": "77b24a1a",
   "metadata": {},
   "outputs": [
    {
     "name": "stdout",
     "output_type": "stream",
     "text": [
      "Matrix S: \n",
      " tensor([[0., 1., 0., 0., 0.],\n",
      "        [0., 0., 1., 0., 0.],\n",
      "        [0., 0., 0., 1., 0.],\n",
      "        [0., 0., 0., 0., 1.],\n",
      "        [0., 0., 0., 0., 0.]])\n",
      "S^2 = \n",
      " tensor([[0., 0., 1., 0., 0.],\n",
      "        [0., 0., 0., 1., 0.],\n",
      "        [0., 0., 0., 0., 1.],\n",
      "        [0., 0., 0., 0., 0.],\n",
      "        [0., 0., 0., 0., 0.]])\n",
      "S^3 = \n",
      " tensor([[0., 0., 0., 1., 0.],\n",
      "        [0., 0., 0., 0., 1.],\n",
      "        [0., 0., 0., 0., 0.],\n",
      "        [0., 0., 0., 0., 0.],\n",
      "        [0., 0., 0., 0., 0.]])\n",
      "S^4 = \n",
      " tensor([[0., 0., 0., 0., 1.],\n",
      "        [0., 0., 0., 0., 0.],\n",
      "        [0., 0., 0., 0., 0.],\n",
      "        [0., 0., 0., 0., 0.],\n",
      "        [0., 0., 0., 0., 0.]])\n",
      "S^5 = \n",
      " tensor([[0., 0., 0., 0., 0.],\n",
      "        [0., 0., 0., 0., 0.],\n",
      "        [0., 0., 0., 0., 0.],\n",
      "        [0., 0., 0., 0., 0.],\n",
      "        [0., 0., 0., 0., 0.]])\n",
      "S^6 = \n",
      " tensor([[0., 0., 0., 0., 0.],\n",
      "        [0., 0., 0., 0., 0.],\n",
      "        [0., 0., 0., 0., 0.],\n",
      "        [0., 0., 0., 0., 0.],\n",
      "        [0., 0., 0., 0., 0.]])\n"
     ]
    }
   ],
   "source": [
    "# matrix S\n",
    "shape = (5,5,) # size of matrix S\n",
    "v_size = 4 # size of vector\n",
    "vector = torch.ones(v_size) # create the vector\n",
    "S = torch.diagflat(vector, 1) # 2nd argument is offset, which determines which diagonal to fill values in\n",
    "print(f\"Matrix S: \\n {S}\") # display matrix S\n",
    "current_computation = torch.diagflat(vector, 1) # similar to S, but this tensor will store final computation\n",
    "# Compute S^k\n",
    "for k in range(5): # Computing from S^2 to S^6 takes 5 times\n",
    "    torch.matmul(current_computation, S, out=current_computation)\n",
    "    print(f\"S^{k+2} = \\n {current_computation}\")"
   ]
  }
 ],
 "metadata": {
  "kernelspec": {
   "display_name": "Python 3",
   "language": "python",
   "name": "python3"
  },
  "language_info": {
   "codemirror_mode": {
    "name": "ipython",
    "version": 3
   },
   "file_extension": ".py",
   "mimetype": "text/x-python",
   "name": "python",
   "nbconvert_exporter": "python",
   "pygments_lexer": "ipython3",
   "version": "3.8.5"
  }
 },
 "nbformat": 4,
 "nbformat_minor": 5
}
