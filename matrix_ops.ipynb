{
 "cells": [
  {
   "cell_type": "markdown",
   "id": "57eac390",
   "metadata": {},
   "source": [
    "# 2.1: Matrix Operations"
   ]
  },
  {
   "cell_type": "markdown",
   "id": "4cafc0d4",
   "metadata": {},
   "source": [
    "## Notes"
   ]
  },
  {
   "cell_type": "markdown",
   "id": "18548ba4",
   "metadata": {},
   "source": [
    "## Exercises"
   ]
  },
  {
   "cell_type": "code",
   "execution_count": 2,
   "id": "e97ca616",
   "metadata": {},
   "outputs": [],
   "source": [
    "# Setup\n",
    "import torch "
   ]
  },
  {
   "cell_type": "markdown",
   "id": "035f2fd6",
   "metadata": {},
   "source": [
    "Produce the following matrices (without keying in each entry of the matrix)"
   ]
  },
  {
   "cell_type": "markdown",
   "id": "588f2326",
   "metadata": {},
   "source": [
    "a. A 4 x 5 matrix of zeros"
   ]
  },
  {
   "cell_type": "code",
   "execution_count": 4,
   "id": "6da0482e",
   "metadata": {},
   "outputs": [
    {
     "name": "stdout",
     "output_type": "stream",
     "text": [
      "Zeros Tensor: \n",
      " tensor([[0., 0., 0., 0., 0.],\n",
      "        [0., 0., 0., 0., 0.],\n",
      "        [0., 0., 0., 0., 0.],\n",
      "        [0., 0., 0., 0., 0.]])\n"
     ]
    }
   ],
   "source": [
    "# matrix size \n",
    "shape = (4,5,)\n",
    "# matrix of zeros using the shape\n",
    "zeros_tensor = torch.zeros(shape)\n",
    "# display above matrix\n",
    "print(\"Zeros Tensor: \\n {}\".format(zeros_tensor))"
   ]
  },
  {
   "cell_type": "markdown",
   "id": "08b59c8b",
   "metadata": {},
   "source": [
    "b. A 5 x 3 matrix of ones"
   ]
  },
  {
   "cell_type": "code",
   "execution_count": 7,
   "id": "d609fd6d",
   "metadata": {},
   "outputs": [
    {
     "name": "stdout",
     "output_type": "stream",
     "text": [
      "Ones Tensor: \n",
      " tensor([[1., 1., 1.],\n",
      "        [1., 1., 1.],\n",
      "        [1., 1., 1.],\n",
      "        [1., 1., 1.],\n",
      "        [1., 1., 1.]])\n"
     ]
    }
   ],
   "source": [
    "# matrix size\n",
    "shape = (5,3,)\n",
    "# matrix of ones using the shape\n",
    "ones_tensor = torch.ones(shape)\n",
    "# display matrix\n",
    "print(\"Ones Tensor: \\n {}\".format(ones_tensor))"
   ]
  },
  {
   "cell_type": "markdown",
   "id": "f3208e43",
   "metadata": {},
   "source": [
    "c. The 5 x 5 identity matrix"
   ]
  },
  {
   "cell_type": "code",
   "execution_count": null,
   "id": "69656370",
   "metadata": {},
   "outputs": [],
   "source": []
  }
 ],
 "metadata": {
  "kernelspec": {
   "display_name": "Python 3",
   "language": "python",
   "name": "python3"
  },
  "language_info": {
   "codemirror_mode": {
    "name": "ipython",
    "version": 3
   },
   "file_extension": ".py",
   "mimetype": "text/x-python",
   "name": "python",
   "nbconvert_exporter": "python",
   "pygments_lexer": "ipython3",
   "version": "3.8.5"
  }
 },
 "nbformat": 4,
 "nbformat_minor": 5
}
