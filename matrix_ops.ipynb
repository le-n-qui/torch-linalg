{
 "cells": [
  {
   "cell_type": "markdown",
   "id": "57eac390",
   "metadata": {},
   "source": [
    "# 2.1: Matrix Operations"
   ]
  },
  {
   "cell_type": "markdown",
   "id": "4cafc0d4",
   "metadata": {},
   "source": [
    "## Notes"
   ]
  },
  {
   "cell_type": "markdown",
   "id": "18548ba4",
   "metadata": {},
   "source": [
    "## Exercises"
   ]
  },
  {
   "cell_type": "code",
   "execution_count": 2,
   "id": "e97ca616",
   "metadata": {},
   "outputs": [],
   "source": [
    "# Setup\n",
    "import torch "
   ]
  },
  {
   "cell_type": "markdown",
   "id": "035f2fd6",
   "metadata": {},
   "source": [
    "**Problem: Produce the following matrices (without keying in each entry of the matrix)**"
   ]
  },
  {
   "cell_type": "markdown",
   "id": "588f2326",
   "metadata": {},
   "source": [
    "a. A 4 x 5 matrix of zeros"
   ]
  },
  {
   "cell_type": "code",
   "execution_count": 3,
   "id": "6da0482e",
   "metadata": {},
   "outputs": [
    {
     "name": "stdout",
     "output_type": "stream",
     "text": [
      "Zeros Tensor: \n",
      " tensor([[0., 0., 0., 0., 0.],\n",
      "        [0., 0., 0., 0., 0.],\n",
      "        [0., 0., 0., 0., 0.],\n",
      "        [0., 0., 0., 0., 0.]])\n"
     ]
    }
   ],
   "source": [
    "# matrix size \n",
    "shape = (4,5,)\n",
    "# matrix of zeros using the shape\n",
    "zeros_tensor = torch.zeros(shape)\n",
    "# display above matrix\n",
    "print(\"Zeros Tensor: \\n {}\".format(zeros_tensor))"
   ]
  },
  {
   "cell_type": "markdown",
   "id": "08b59c8b",
   "metadata": {},
   "source": [
    "b. A 5 x 3 matrix of ones"
   ]
  },
  {
   "cell_type": "code",
   "execution_count": 4,
   "id": "d609fd6d",
   "metadata": {},
   "outputs": [
    {
     "name": "stdout",
     "output_type": "stream",
     "text": [
      "Ones Tensor: \n",
      " tensor([[1., 1., 1.],\n",
      "        [1., 1., 1.],\n",
      "        [1., 1., 1.],\n",
      "        [1., 1., 1.],\n",
      "        [1., 1., 1.]])\n"
     ]
    }
   ],
   "source": [
    "# matrix size\n",
    "shape = (5,3,)\n",
    "# matrix of ones using the shape\n",
    "ones_tensor = torch.ones(shape)\n",
    "# display matrix\n",
    "print(\"Ones Tensor: \\n {}\".format(ones_tensor))"
   ]
  },
  {
   "cell_type": "markdown",
   "id": "f3208e43",
   "metadata": {},
   "source": [
    "c. The 5 x 5 identity matrix"
   ]
  },
  {
   "cell_type": "markdown",
   "id": "87ae7962",
   "metadata": {},
   "source": [
    "Method: Filling pivot positions of the matrix with value 1"
   ]
  },
  {
   "cell_type": "code",
   "execution_count": 21,
   "id": "69656370",
   "metadata": {},
   "outputs": [
    {
     "name": "stdout",
     "output_type": "stream",
     "text": [
      "Identity Tensor: \n",
      " tensor([[1., 0., 0., 0., 0.],\n",
      "        [0., 1., 0., 0., 0.],\n",
      "        [0., 0., 1., 0., 0.],\n",
      "        [0., 0., 0., 1., 0.],\n",
      "        [0., 0., 0., 0., 1.]])\n"
     ]
    }
   ],
   "source": [
    "# matrix size\n",
    "shape = (5,5,)\n",
    "# pivot value\n",
    "pivot = 1\n",
    "# make a zero matrix\n",
    "zeros_tensor = torch.zeros(shape)\n",
    "# pivot positions in identity matrix must be ones\n",
    "identity_tensor = zeros_tensor.fill_diagonal_(pivot)\n",
    "# display identity matrix\n",
    "print(\"Identity Tensor: \\n {}\".format(identity_tensor))"
   ]
  },
  {
   "cell_type": "markdown",
   "id": "dc4ca24b",
   "metadata": {},
   "source": [
    "Method: Provide a vector of ones to torch.diag or torch.diagflat"
   ]
  },
  {
   "cell_type": "code",
   "execution_count": 22,
   "id": "120b783f",
   "metadata": {},
   "outputs": [
    {
     "name": "stdout",
     "output_type": "stream",
     "text": [
      "Identity Tensor 1: \n",
      " tensor([[1., 0., 0., 0., 0.],\n",
      "        [0., 1., 0., 0., 0.],\n",
      "        [0., 0., 1., 0., 0.],\n",
      "        [0., 0., 0., 1., 0.],\n",
      "        [0., 0., 0., 0., 1.]])\n",
      "Identity Tensor 2: \n",
      " tensor([[1., 0., 0., 0., 0.],\n",
      "        [0., 1., 0., 0., 0.],\n",
      "        [0., 0., 1., 0., 0.],\n",
      "        [0., 0., 0., 1., 0.],\n",
      "        [0., 0., 0., 0., 1.]])\n"
     ]
    }
   ],
   "source": [
    "# size\n",
    "vector_size = 5\n",
    "# make a vector\n",
    "ones_vector = torch.ones(vector_size)\n",
    "# create the identity matrix\n",
    "id_tensor_1 = torch.diag(ones_vector)\n",
    "# display identity matrix\n",
    "print(\"Identity Tensor 1: \\n {}\".format(id_tensor_1))\n",
    "# create 2nd identity matrix\n",
    "id_tensor_2 = torch.diagflat(ones_vector)\n",
    "# display 2nd matrix\n",
    "print(\"Identity Tensor 2: \\n {}\".format(id_tensor_2))"
   ]
  },
  {
   "cell_type": "markdown",
   "id": "3647aba3",
   "metadata": {},
   "source": [
    "d. A 4 x 4 diagonal matrix, with diagonal entries 3, 4, 2, 5\n",
    "\n",
    "   Between two methods discovered above, it is better to use 2nd method for different entries on our diagonal."
   ]
  },
  {
   "cell_type": "code",
   "execution_count": 27,
   "id": "3b7baa85",
   "metadata": {},
   "outputs": [
    {
     "name": "stdout",
     "output_type": "stream",
     "text": [
      "Diagonal Matrix: \n",
      " tensor([[3, 0, 0, 0],\n",
      "        [0, 4, 0, 0],\n",
      "        [0, 0, 2, 0],\n",
      "        [0, 0, 0, 5]])\n"
     ]
    }
   ],
   "source": [
    "# matrix size\n",
    "shape = (4,4,)\n",
    "# vector data\n",
    "data = [3, 4, 2, 5]\n",
    "# make a vector\n",
    "vector = torch.tensor(data)\n",
    "# create diagonal matrix with desired entries\n",
    "diag_matrix = torch.diag(vector)\n",
    "# display matrix\n",
    "print(\"Diagonal Matrix: \\n {}\".format(diag_matrix))"
   ]
  },
  {
   "cell_type": "markdown",
   "id": "d40153a3",
   "metadata": {},
   "source": [
    "**Observation**: A useful way to test new ideas in matrix algebra, or to make conjectures,  is to make calculations with matrices selected at random."
   ]
  },
  {
   "cell_type": "markdown",
   "id": "0518efbb",
   "metadata": {},
   "source": [
    "**Problem: Create a 5 x 6 matrix with random entries**"
   ]
  },
  {
   "cell_type": "code",
   "execution_count": 30,
   "id": "94fc8f29",
   "metadata": {},
   "outputs": [
    {
     "name": "stdout",
     "output_type": "stream",
     "text": [
      "Random Tensor: \n",
      " tensor([[0.3721, 0.3003, 0.2537, 0.9327, 0.8904, 0.2613],\n",
      "        [0.2015, 0.5203, 0.8707, 0.9034, 0.3224, 0.0402],\n",
      "        [0.1862, 0.7260, 0.7008, 0.9567, 0.9470, 0.4316],\n",
      "        [0.1110, 0.8372, 0.5519, 0.6201, 0.4774, 0.9666],\n",
      "        [0.8372, 0.2464, 0.4884, 0.0901, 0.4593, 0.6614]])\n",
      "Tensor Size: torch.Size([5, 6])\n",
      "Tensor Data Type: torch.float32\n",
      "Device Tensor Is Stored On: cpu\n"
     ]
    }
   ],
   "source": [
    "# tensor shape\n",
    "shape = (5,6,)\n",
    "# create tensor with random entries\n",
    "rand_tensor = torch.rand(shape)\n",
    "# display\n",
    "print(\"Random Tensor: \\n {}\".format(rand_tensor))\n",
    "print(\"Tensor Size: {}\".format(rand_tensor.shape))\n",
    "print(\"Tensor Data Type: {}\".format(rand_tensor.dtype))\n",
    "print(\"Device Tensor Is Stored On: {}\".format(rand_tensor.device))"
   ]
  },
  {
   "cell_type": "markdown",
   "id": "1b2cad2a",
   "metadata": {},
   "source": [
    "Create a 4 x 4 matrix with random integers entries between -9 and 9"
   ]
  },
  {
   "cell_type": "code",
   "execution_count": 35,
   "id": "f4ff76ad",
   "metadata": {},
   "outputs": [
    {
     "name": "stdout",
     "output_type": "stream",
     "text": [
      "Random Integer Tensor: \n",
      " tensor([[ 8, -9, -3, -1],\n",
      "        [ 7, -8,  5, -7],\n",
      "        [ 7,  4, -3, -7],\n",
      "        [-4, -3,  0, -1]])\n",
      "Largest value: 8\n"
     ]
    }
   ],
   "source": [
    "# tensor shape\n",
    "shape = (4,4,)\n",
    "# create tensor with random integers\n",
    "int_tensor = torch.randint(-9, 9, shape)\n",
    "# display\n",
    "print(f\"Random Integer Tensor: \\n {int_tensor}\")\n",
    "# Find the largest value in tensor\n",
    "print(f\"Largest value: {torch.max(int_tensor)}\")"
   ]
  },
  {
   "cell_type": "markdown",
   "id": "d7b39617",
   "metadata": {},
   "source": [
    "**Problem: Construct a random 4 x 4 matrices A & B to test whether AB = BA**\n",
    "\n",
    "Test 4 pairs of random 4 x 4 matrices"
   ]
  },
  {
   "cell_type": "code",
   "execution_count": 47,
   "id": "018161c3",
   "metadata": {},
   "outputs": [
    {
     "name": "stdout",
     "output_type": "stream",
     "text": [
      "AB = tensor([[ 20,  28,  12,   0],\n",
      "        [ 98,  91,  32,  79],\n",
      "        [112, 130,  49,  92],\n",
      "        [ 87,  98,  32,  79]])\n",
      "AB = tensor([[ 85, 134,  69,  66],\n",
      "        [ 84, 108,  70,  48],\n",
      "        [ 90, 158,  81,  90],\n",
      "        [ 60,  84,  44,  36]])\n",
      "AB = tensor([[ 80,  88, 114,  87],\n",
      "        [ 12,  35,  29,  30],\n",
      "        [ 72, 101, 103, 116],\n",
      "        [ 33,  68,  70,  67]])\n",
      "AB = tensor([[ 77,  16,  62,  62],\n",
      "        [ 68,  11,  39,  66],\n",
      "        [ 84,  17,  55,  77],\n",
      "        [112,  28,  64, 114]])\n"
     ]
    }
   ],
   "source": [
    "# matrix size\n",
    "shape = (4,4,)\n",
    "# number of tensors\n",
    "num_tensors = 4\n",
    "\n",
    "# 2 batches of tensors\n",
    "batch_1 = []\n",
    "batch_2 = []\n",
    "# create  matrices\n",
    "for _ in range(num_tensors):\n",
    "    rand_tensor_1 = torch.randint(9, shape)\n",
    "    batch_1.append(rand_tensor_1)\n",
    "    rand_tensor_2 = torch.randint(9, shape)\n",
    "    batch_2.append(rand_tensor_2)\n",
    "    \n",
    "for A, B in zip(batch_1, batch_2):\n",
    "    # matrix multiplication\n",
    "    output = torch.matmul(A, B)\n",
    "    # display\n",
    "    print(f\"AB = {output}\")"
   ]
  },
  {
   "cell_type": "code",
   "execution_count": null,
   "id": "70b49b2d",
   "metadata": {},
   "outputs": [],
   "source": []
  }
 ],
 "metadata": {
  "kernelspec": {
   "display_name": "Python 3",
   "language": "python",
   "name": "python3"
  },
  "language_info": {
   "codemirror_mode": {
    "name": "ipython",
    "version": 3
   },
   "file_extension": ".py",
   "mimetype": "text/x-python",
   "name": "python",
   "nbconvert_exporter": "python",
   "pygments_lexer": "ipython3",
   "version": "3.8.5"
  }
 },
 "nbformat": 4,
 "nbformat_minor": 5
}
