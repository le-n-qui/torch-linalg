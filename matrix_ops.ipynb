{
 "cells": [
  {
   "cell_type": "markdown",
   "id": "57eac390",
   "metadata": {},
   "source": [
    "# 2.1: Matrix Operations"
   ]
  },
  {
   "cell_type": "markdown",
   "id": "4cafc0d4",
   "metadata": {},
   "source": [
    "## Notes"
   ]
  },
  {
   "cell_type": "markdown",
   "id": "18548ba4",
   "metadata": {},
   "source": [
    "## Exercises"
   ]
  },
  {
   "cell_type": "code",
   "execution_count": 2,
   "id": "e97ca616",
   "metadata": {},
   "outputs": [],
   "source": [
    "# Setup\n",
    "import torch "
   ]
  },
  {
   "cell_type": "markdown",
   "id": "035f2fd6",
   "metadata": {},
   "source": [
    "Produce the following matrices (without keying in each entry of the matrix)"
   ]
  },
  {
   "cell_type": "markdown",
   "id": "588f2326",
   "metadata": {},
   "source": [
    "a. A 4 x 5 matrix of zeros"
   ]
  },
  {
   "cell_type": "code",
   "execution_count": 3,
   "id": "6da0482e",
   "metadata": {},
   "outputs": [
    {
     "name": "stdout",
     "output_type": "stream",
     "text": [
      "Zeros Tensor: \n",
      " tensor([[0., 0., 0., 0., 0.],\n",
      "        [0., 0., 0., 0., 0.],\n",
      "        [0., 0., 0., 0., 0.],\n",
      "        [0., 0., 0., 0., 0.]])\n"
     ]
    }
   ],
   "source": [
    "# matrix size \n",
    "shape = (4,5,)\n",
    "# matrix of zeros using the shape\n",
    "zeros_tensor = torch.zeros(shape)\n",
    "# display above matrix\n",
    "print(\"Zeros Tensor: \\n {}\".format(zeros_tensor))"
   ]
  },
  {
   "cell_type": "markdown",
   "id": "08b59c8b",
   "metadata": {},
   "source": [
    "b. A 5 x 3 matrix of ones"
   ]
  },
  {
   "cell_type": "code",
   "execution_count": 4,
   "id": "d609fd6d",
   "metadata": {},
   "outputs": [
    {
     "name": "stdout",
     "output_type": "stream",
     "text": [
      "Ones Tensor: \n",
      " tensor([[1., 1., 1.],\n",
      "        [1., 1., 1.],\n",
      "        [1., 1., 1.],\n",
      "        [1., 1., 1.],\n",
      "        [1., 1., 1.]])\n"
     ]
    }
   ],
   "source": [
    "# matrix size\n",
    "shape = (5,3,)\n",
    "# matrix of ones using the shape\n",
    "ones_tensor = torch.ones(shape)\n",
    "# display matrix\n",
    "print(\"Ones Tensor: \\n {}\".format(ones_tensor))"
   ]
  },
  {
   "cell_type": "markdown",
   "id": "f3208e43",
   "metadata": {},
   "source": [
    "c. The 5 x 5 identity matrix"
   ]
  },
  {
   "cell_type": "markdown",
   "id": "70493ae8",
   "metadata": {},
   "source": [
    "Method: Filling pivot positions of the matrix with value 1"
   ]
  },
  {
   "cell_type": "code",
   "execution_count": 21,
   "id": "69656370",
   "metadata": {},
   "outputs": [
    {
     "name": "stdout",
     "output_type": "stream",
     "text": [
      "Identity Tensor: \n",
      " tensor([[1., 0., 0., 0., 0.],\n",
      "        [0., 1., 0., 0., 0.],\n",
      "        [0., 0., 1., 0., 0.],\n",
      "        [0., 0., 0., 1., 0.],\n",
      "        [0., 0., 0., 0., 1.]])\n"
     ]
    }
   ],
   "source": [
    "# matrix size\n",
    "shape = (5,5,)\n",
    "# pivot value\n",
    "pivot = 1\n",
    "# make a zero matrix\n",
    "zeros_tensor = torch.zeros(shape)\n",
    "# pivot positions in identity matrix must be ones\n",
    "identity_tensor = zeros_tensor.fill_diagonal_(pivot)\n",
    "# display identity matrix\n",
    "print(\"Identity Tensor: \\n {}\".format(identity_tensor))"
   ]
  },
  {
   "cell_type": "markdown",
   "id": "c87edf93",
   "metadata": {},
   "source": [
    "Method: Provide a vector of ones to torch.diag or torch.diagflat"
   ]
  },
  {
   "cell_type": "code",
   "execution_count": 22,
   "id": "39f9d7ed",
   "metadata": {},
   "outputs": [
    {
     "name": "stdout",
     "output_type": "stream",
     "text": [
      "Identity Tensor 1: \n",
      " tensor([[1., 0., 0., 0., 0.],\n",
      "        [0., 1., 0., 0., 0.],\n",
      "        [0., 0., 1., 0., 0.],\n",
      "        [0., 0., 0., 1., 0.],\n",
      "        [0., 0., 0., 0., 1.]])\n",
      "Identity Tensor 2: \n",
      " tensor([[1., 0., 0., 0., 0.],\n",
      "        [0., 1., 0., 0., 0.],\n",
      "        [0., 0., 1., 0., 0.],\n",
      "        [0., 0., 0., 1., 0.],\n",
      "        [0., 0., 0., 0., 1.]])\n"
     ]
    }
   ],
   "source": [
    "# size\n",
    "vector_size = 5\n",
    "# make a vector\n",
    "ones_vector = torch.ones(vector_size)\n",
    "# create the identity matrix\n",
    "id_tensor_1 = torch.diag(ones_vector)\n",
    "# display identity matrix\n",
    "print(\"Identity Tensor 1: \\n {}\".format(id_tensor_1))\n",
    "# create 2nd identity matrix\n",
    "id_tensor_2 = torch.diagflat(ones_vector)\n",
    "# display 2nd matrix\n",
    "print(\"Identity Tensor 2: \\n {}\".format(id_tensor_2))"
   ]
  },
  {
   "cell_type": "markdown",
   "id": "44cce682",
   "metadata": {},
   "source": [
    "d. A 4 x 4 diagonal matrix, with diagonal entries 3, 4, 2, 5\n",
    "\n",
    "   Between two methods discovered above, it is better to use 2nd method for different entries on our diagonal."
   ]
  },
  {
   "cell_type": "code",
   "execution_count": 25,
   "id": "e70bbffa",
   "metadata": {},
   "outputs": [
    {
     "name": "stdout",
     "output_type": "stream",
     "text": [
      "Diagonal Matrix: \n",
      " tensor([[3, 0, 0, 0],\n",
      "        [0, 4, 0, 0],\n",
      "        [0, 0, 2, 0],\n",
      "        [0, 0, 0, 5]])\n"
     ]
    }
   ],
   "source": [
    "# matrix size\n",
    "shape = (4,4,)\n",
    "# make a vector\n",
    "vector = torch.tensor([3,4,2,5])\n",
    "# create diagonal matrix with desired entries\n",
    "diag_matrix = torch.diag(vector)\n",
    "# display matrix\n",
    "print(\"Diagonal Matrix: \\n {}\".format(diag_matrix))"
   ]
  }
 ],
 "metadata": {
  "kernelspec": {
   "display_name": "Python 3",
   "language": "python",
   "name": "python3"
  },
  "language_info": {
   "codemirror_mode": {
    "name": "ipython",
    "version": 3
   },
   "file_extension": ".py",
   "mimetype": "text/x-python",
   "name": "python",
   "nbconvert_exporter": "python",
   "pygments_lexer": "ipython3",
   "version": "3.8.5"
  }
 },
 "nbformat": 4,
 "nbformat_minor": 5
}
